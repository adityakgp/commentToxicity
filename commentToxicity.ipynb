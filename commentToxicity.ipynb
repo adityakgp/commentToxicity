{
  "cells": [
    {
      "cell_type": "markdown",
      "source": [
        "# Installing Dependencies and Loading The Data"
      ],
      "metadata": {
        "id": "Xyj41V1Et87X"
      }
    },
    {
      "cell_type": "code",
      "execution_count": null,
      "metadata": {
        "id": "SUalbY-XGCjT"
      },
      "outputs": [],
      "source": [
        "import os\n",
        "import pandas as pd\n",
        "import numpy as np\n",
        "import tensorflow as tf"
      ]
    },
    {
      "cell_type": "code",
      "execution_count": null,
      "metadata": {
        "colab": {
          "base_uri": "https://localhost:8080/"
        },
        "id": "prPfsZZ4Kshx",
        "outputId": "3b047a35-6abf-4799-8ceb-d578ed370cc1"
      },
      "outputs": [
        {
          "output_type": "stream",
          "name": "stdout",
          "text": [
            "Mounted at /content/drive\n"
          ]
        }
      ],
      "source": [
        "from google.colab import drive\n",
        "drive.mount('/content/drive')"
      ]
    },
    {
      "cell_type": "code",
      "execution_count": null,
      "metadata": {
        "id": "MAPsRhvcGP5L"
      },
      "outputs": [],
      "source": [
        "df = pd.read_csv('drive/MyDrive/CommentToxicity/train.csv')"
      ]
    },
    {
      "cell_type": "code",
      "execution_count": null,
      "metadata": {
        "colab": {
          "base_uri": "https://localhost:8080/",
          "height": 206
        },
        "id": "IdxcBKfbLHG-",
        "outputId": "87901d05-a5e9-4704-ecf6-96f227d68671"
      },
      "outputs": [
        {
          "output_type": "execute_result",
          "data": {
            "text/plain": [
              "                 id                                       comment_text  toxic  \\\n",
              "0  0000997932d777bf  Explanation\\nWhy the edits made under my usern...      0   \n",
              "1  000103f0d9cfb60f  D'aww! He matches this background colour I'm s...      0   \n",
              "2  000113f07ec002fd  Hey man, I'm really not trying to edit war. It...      0   \n",
              "3  0001b41b1c6bb37e  \"\\nMore\\nI can't make any real suggestions on ...      0   \n",
              "4  0001d958c54c6e35  You, sir, are my hero. Any chance you remember...      0   \n",
              "\n",
              "   severe_toxic  obscene  threat  insult  identity_hate  \n",
              "0             0        0       0       0              0  \n",
              "1             0        0       0       0              0  \n",
              "2             0        0       0       0              0  \n",
              "3             0        0       0       0              0  \n",
              "4             0        0       0       0              0  "
            ],
            "text/html": [
              "\n",
              "  <div id=\"df-c454608d-23eb-4b0a-8a1a-9e5a798bbc2d\">\n",
              "    <div class=\"colab-df-container\">\n",
              "      <div>\n",
              "<style scoped>\n",
              "    .dataframe tbody tr th:only-of-type {\n",
              "        vertical-align: middle;\n",
              "    }\n",
              "\n",
              "    .dataframe tbody tr th {\n",
              "        vertical-align: top;\n",
              "    }\n",
              "\n",
              "    .dataframe thead th {\n",
              "        text-align: right;\n",
              "    }\n",
              "</style>\n",
              "<table border=\"1\" class=\"dataframe\">\n",
              "  <thead>\n",
              "    <tr style=\"text-align: right;\">\n",
              "      <th></th>\n",
              "      <th>id</th>\n",
              "      <th>comment_text</th>\n",
              "      <th>toxic</th>\n",
              "      <th>severe_toxic</th>\n",
              "      <th>obscene</th>\n",
              "      <th>threat</th>\n",
              "      <th>insult</th>\n",
              "      <th>identity_hate</th>\n",
              "    </tr>\n",
              "  </thead>\n",
              "  <tbody>\n",
              "    <tr>\n",
              "      <th>0</th>\n",
              "      <td>0000997932d777bf</td>\n",
              "      <td>Explanation\\nWhy the edits made under my usern...</td>\n",
              "      <td>0</td>\n",
              "      <td>0</td>\n",
              "      <td>0</td>\n",
              "      <td>0</td>\n",
              "      <td>0</td>\n",
              "      <td>0</td>\n",
              "    </tr>\n",
              "    <tr>\n",
              "      <th>1</th>\n",
              "      <td>000103f0d9cfb60f</td>\n",
              "      <td>D'aww! He matches this background colour I'm s...</td>\n",
              "      <td>0</td>\n",
              "      <td>0</td>\n",
              "      <td>0</td>\n",
              "      <td>0</td>\n",
              "      <td>0</td>\n",
              "      <td>0</td>\n",
              "    </tr>\n",
              "    <tr>\n",
              "      <th>2</th>\n",
              "      <td>000113f07ec002fd</td>\n",
              "      <td>Hey man, I'm really not trying to edit war. It...</td>\n",
              "      <td>0</td>\n",
              "      <td>0</td>\n",
              "      <td>0</td>\n",
              "      <td>0</td>\n",
              "      <td>0</td>\n",
              "      <td>0</td>\n",
              "    </tr>\n",
              "    <tr>\n",
              "      <th>3</th>\n",
              "      <td>0001b41b1c6bb37e</td>\n",
              "      <td>\"\\nMore\\nI can't make any real suggestions on ...</td>\n",
              "      <td>0</td>\n",
              "      <td>0</td>\n",
              "      <td>0</td>\n",
              "      <td>0</td>\n",
              "      <td>0</td>\n",
              "      <td>0</td>\n",
              "    </tr>\n",
              "    <tr>\n",
              "      <th>4</th>\n",
              "      <td>0001d958c54c6e35</td>\n",
              "      <td>You, sir, are my hero. Any chance you remember...</td>\n",
              "      <td>0</td>\n",
              "      <td>0</td>\n",
              "      <td>0</td>\n",
              "      <td>0</td>\n",
              "      <td>0</td>\n",
              "      <td>0</td>\n",
              "    </tr>\n",
              "  </tbody>\n",
              "</table>\n",
              "</div>\n",
              "      <button class=\"colab-df-convert\" onclick=\"convertToInteractive('df-c454608d-23eb-4b0a-8a1a-9e5a798bbc2d')\"\n",
              "              title=\"Convert this dataframe to an interactive table.\"\n",
              "              style=\"display:none;\">\n",
              "        \n",
              "  <svg xmlns=\"http://www.w3.org/2000/svg\" height=\"24px\"viewBox=\"0 0 24 24\"\n",
              "       width=\"24px\">\n",
              "    <path d=\"M0 0h24v24H0V0z\" fill=\"none\"/>\n",
              "    <path d=\"M18.56 5.44l.94 2.06.94-2.06 2.06-.94-2.06-.94-.94-2.06-.94 2.06-2.06.94zm-11 1L8.5 8.5l.94-2.06 2.06-.94-2.06-.94L8.5 2.5l-.94 2.06-2.06.94zm10 10l.94 2.06.94-2.06 2.06-.94-2.06-.94-.94-2.06-.94 2.06-2.06.94z\"/><path d=\"M17.41 7.96l-1.37-1.37c-.4-.4-.92-.59-1.43-.59-.52 0-1.04.2-1.43.59L10.3 9.45l-7.72 7.72c-.78.78-.78 2.05 0 2.83L4 21.41c.39.39.9.59 1.41.59.51 0 1.02-.2 1.41-.59l7.78-7.78 2.81-2.81c.8-.78.8-2.07 0-2.86zM5.41 20L4 18.59l7.72-7.72 1.47 1.35L5.41 20z\"/>\n",
              "  </svg>\n",
              "      </button>\n",
              "      \n",
              "  <style>\n",
              "    .colab-df-container {\n",
              "      display:flex;\n",
              "      flex-wrap:wrap;\n",
              "      gap: 12px;\n",
              "    }\n",
              "\n",
              "    .colab-df-convert {\n",
              "      background-color: #E8F0FE;\n",
              "      border: none;\n",
              "      border-radius: 50%;\n",
              "      cursor: pointer;\n",
              "      display: none;\n",
              "      fill: #1967D2;\n",
              "      height: 32px;\n",
              "      padding: 0 0 0 0;\n",
              "      width: 32px;\n",
              "    }\n",
              "\n",
              "    .colab-df-convert:hover {\n",
              "      background-color: #E2EBFA;\n",
              "      box-shadow: 0px 1px 2px rgba(60, 64, 67, 0.3), 0px 1px 3px 1px rgba(60, 64, 67, 0.15);\n",
              "      fill: #174EA6;\n",
              "    }\n",
              "\n",
              "    [theme=dark] .colab-df-convert {\n",
              "      background-color: #3B4455;\n",
              "      fill: #D2E3FC;\n",
              "    }\n",
              "\n",
              "    [theme=dark] .colab-df-convert:hover {\n",
              "      background-color: #434B5C;\n",
              "      box-shadow: 0px 1px 3px 1px rgba(0, 0, 0, 0.15);\n",
              "      filter: drop-shadow(0px 1px 2px rgba(0, 0, 0, 0.3));\n",
              "      fill: #FFFFFF;\n",
              "    }\n",
              "  </style>\n",
              "\n",
              "      <script>\n",
              "        const buttonEl =\n",
              "          document.querySelector('#df-c454608d-23eb-4b0a-8a1a-9e5a798bbc2d button.colab-df-convert');\n",
              "        buttonEl.style.display =\n",
              "          google.colab.kernel.accessAllowed ? 'block' : 'none';\n",
              "\n",
              "        async function convertToInteractive(key) {\n",
              "          const element = document.querySelector('#df-c454608d-23eb-4b0a-8a1a-9e5a798bbc2d');\n",
              "          const dataTable =\n",
              "            await google.colab.kernel.invokeFunction('convertToInteractive',\n",
              "                                                     [key], {});\n",
              "          if (!dataTable) return;\n",
              "\n",
              "          const docLinkHtml = 'Like what you see? Visit the ' +\n",
              "            '<a target=\"_blank\" href=https://colab.research.google.com/notebooks/data_table.ipynb>data table notebook</a>'\n",
              "            + ' to learn more about interactive tables.';\n",
              "          element.innerHTML = '';\n",
              "          dataTable['output_type'] = 'display_data';\n",
              "          await google.colab.output.renderOutput(dataTable, element);\n",
              "          const docLink = document.createElement('div');\n",
              "          docLink.innerHTML = docLinkHtml;\n",
              "          element.appendChild(docLink);\n",
              "        }\n",
              "      </script>\n",
              "    </div>\n",
              "  </div>\n",
              "  "
            ]
          },
          "metadata": {},
          "execution_count": 4
        }
      ],
      "source": [
        "df.head()"
      ]
    },
    {
      "cell_type": "markdown",
      "source": [
        "# Data preprocessing"
      ],
      "metadata": {
        "id": "XZ2zsbyduMUl"
      }
    },
    {
      "cell_type": "code",
      "execution_count": null,
      "metadata": {
        "id": "h68xVG4RLJev"
      },
      "outputs": [],
      "source": [
        "from tensorflow.keras.layers import TextVectorization"
      ]
    },
    {
      "cell_type": "code",
      "execution_count": null,
      "metadata": {
        "id": "TGi2qIcNLtN6"
      },
      "outputs": [],
      "source": [
        "x = df['comment_text']\n",
        "y = df[df.columns[2:]].values"
      ]
    },
    {
      "cell_type": "code",
      "execution_count": null,
      "metadata": {
        "colab": {
          "base_uri": "https://localhost:8080/"
        },
        "id": "SU6DUwiSMsf9",
        "outputId": "a67c640a-f05c-4cfc-9c41-2d77868ba392"
      },
      "outputs": [
        {
          "output_type": "execute_result",
          "data": {
            "text/plain": [
              "0         Explanation\\nWhy the edits made under my usern...\n",
              "1         D'aww! He matches this background colour I'm s...\n",
              "2         Hey man, I'm really not trying to edit war. It...\n",
              "3         \"\\nMore\\nI can't make any real suggestions on ...\n",
              "4         You, sir, are my hero. Any chance you remember...\n",
              "                                ...                        \n",
              "159566    \":::::And for the second time of asking, when ...\n",
              "159567    You should be ashamed of yourself \\n\\nThat is ...\n",
              "159568    Spitzer \\n\\nUmm, theres no actual article for ...\n",
              "159569    And it looks like it was actually you who put ...\n",
              "159570    \"\\nAnd ... I really don't think you understand...\n",
              "Name: comment_text, Length: 159571, dtype: object"
            ]
          },
          "metadata": {},
          "execution_count": 7
        }
      ],
      "source": [
        "x"
      ]
    },
    {
      "cell_type": "code",
      "execution_count": null,
      "metadata": {
        "colab": {
          "base_uri": "https://localhost:8080/"
        },
        "id": "EXzP71wNMtZf",
        "outputId": "bc09bcf4-6c2e-4aff-b54f-86ed5b9c82e1"
      },
      "outputs": [
        {
          "output_type": "execute_result",
          "data": {
            "text/plain": [
              "array([[0, 0, 0, 0, 0, 0],\n",
              "       [0, 0, 0, 0, 0, 0],\n",
              "       [0, 0, 0, 0, 0, 0],\n",
              "       ...,\n",
              "       [0, 0, 0, 0, 0, 0],\n",
              "       [0, 0, 0, 0, 0, 0],\n",
              "       [0, 0, 0, 0, 0, 0]])"
            ]
          },
          "metadata": {},
          "execution_count": 8
        }
      ],
      "source": [
        "y"
      ]
    },
    {
      "cell_type": "code",
      "execution_count": null,
      "metadata": {
        "id": "tL7QJoGpMtyA"
      },
      "outputs": [],
      "source": [
        "MAX_WORDS = 200000   #number of words in the vocab"
      ]
    },
    {
      "cell_type": "code",
      "execution_count": null,
      "metadata": {
        "id": "8BrkSvRonwXT"
      },
      "outputs": [],
      "source": [
        "vectorizer = TextVectorization(max_tokens = MAX_WORDS,\n",
        "                               output_sequence_length = 1800,\n",
        "                               output_mode = 'int')"
      ]
    },
    {
      "cell_type": "code",
      "execution_count": null,
      "metadata": {
        "id": "-I1gt_-YvF2e"
      },
      "outputs": [],
      "source": [
        "vectorizer.adapt(x.values) #x.values is an numpy array"
      ]
    },
    {
      "cell_type": "code",
      "execution_count": null,
      "metadata": {
        "colab": {
          "base_uri": "https://localhost:8080/"
        },
        "id": "xtvYfIf-ydtk",
        "outputId": "585cd81f-d3fa-4fc2-d55b-f899154cc349"
      },
      "outputs": [
        {
          "output_type": "execute_result",
          "data": {
            "text/plain": [
              "['',\n",
              " '[UNK]',\n",
              " 'the',\n",
              " 'to',\n",
              " 'of',\n",
              " 'and',\n",
              " 'a',\n",
              " 'you',\n",
              " 'i',\n",
              " 'is',\n",
              " 'that',\n",
              " 'in',\n",
              " 'it',\n",
              " 'for',\n",
              " 'this',\n",
              " 'not',\n",
              " 'on',\n",
              " 'be',\n",
              " 'as',\n",
              " 'have',\n",
              " 'are',\n",
              " 'your',\n",
              " 'with',\n",
              " 'if',\n",
              " 'article',\n",
              " 'was',\n",
              " 'or',\n",
              " 'but',\n",
              " 'page',\n",
              " 'my',\n",
              " 'an',\n",
              " 'from',\n",
              " 'by',\n",
              " 'do',\n",
              " 'at',\n",
              " 'about',\n",
              " 'me',\n",
              " 'so',\n",
              " 'wikipedia',\n",
              " 'can',\n",
              " 'what',\n",
              " 'there',\n",
              " 'all',\n",
              " 'has',\n",
              " 'will',\n",
              " 'talk',\n",
              " 'please',\n",
              " 'would',\n",
              " 'its',\n",
              " 'no',\n",
              " 'one',\n",
              " 'just',\n",
              " 'like',\n",
              " 'they',\n",
              " 'he',\n",
              " 'dont',\n",
              " 'which',\n",
              " 'any',\n",
              " 'been',\n",
              " 'should',\n",
              " 'more',\n",
              " 'we',\n",
              " 'some',\n",
              " 'other',\n",
              " 'who',\n",
              " 'see',\n",
              " 'here',\n",
              " 'also',\n",
              " 'his',\n",
              " 'think',\n",
              " 'im',\n",
              " 'because',\n",
              " 'know',\n",
              " 'how',\n",
              " 'am',\n",
              " 'people',\n",
              " 'why',\n",
              " 'edit',\n",
              " 'articles',\n",
              " 'only',\n",
              " 'out',\n",
              " 'up',\n",
              " 'when',\n",
              " 'were',\n",
              " 'use',\n",
              " 'then',\n",
              " 'may',\n",
              " 'time',\n",
              " 'did',\n",
              " 'them',\n",
              " 'now',\n",
              " 'being',\n",
              " 'their',\n",
              " 'than',\n",
              " 'thanks',\n",
              " 'even',\n",
              " 'get',\n",
              " 'make',\n",
              " 'good',\n",
              " 'had',\n",
              " 'very',\n",
              " 'information',\n",
              " 'does',\n",
              " 'could',\n",
              " 'well',\n",
              " 'want',\n",
              " 'such',\n",
              " 'sources',\n",
              " 'way',\n",
              " 'name',\n",
              " 'these',\n",
              " 'deletion',\n",
              " 'pages',\n",
              " 'first',\n",
              " 'help',\n",
              " 'new',\n",
              " 'editing',\n",
              " 'source',\n",
              " 'go',\n",
              " 'need',\n",
              " 'say',\n",
              " 'section',\n",
              " 'edits',\n",
              " 'again',\n",
              " 'thank',\n",
              " 'where',\n",
              " 'user',\n",
              " 'made',\n",
              " 'many',\n",
              " 'much',\n",
              " 'really',\n",
              " 'used',\n",
              " 'most',\n",
              " 'discussion',\n",
              " 'find',\n",
              " 'same',\n",
              " 'ive',\n",
              " 'deleted',\n",
              " 'into',\n",
              " 'fuck',\n",
              " 'those',\n",
              " 'work',\n",
              " 'since',\n",
              " 'before',\n",
              " 'after',\n",
              " 'point',\n",
              " 'add',\n",
              " 'look',\n",
              " 'right',\n",
              " 'read',\n",
              " 'image',\n",
              " 'take',\n",
              " 'still',\n",
              " 'over',\n",
              " 'someone',\n",
              " 'him',\n",
              " 'two',\n",
              " 'back',\n",
              " 'too',\n",
              " 'fact',\n",
              " 'link',\n",
              " 'said',\n",
              " 'own',\n",
              " 'something',\n",
              " 'going',\n",
              " 'youre',\n",
              " 'blocked',\n",
              " 'list',\n",
              " 'stop',\n",
              " 'without',\n",
              " 'content',\n",
              " 'hi',\n",
              " 'under',\n",
              " 'editors',\n",
              " 'our',\n",
              " 'block',\n",
              " 'thats',\n",
              " 'us',\n",
              " 'added',\n",
              " 'utc',\n",
              " 'history',\n",
              " 'another',\n",
              " 'doesnt',\n",
              " 'removed',\n",
              " 'might',\n",
              " 'note',\n",
              " 'however',\n",
              " 'sure',\n",
              " 'place',\n",
              " 'never',\n",
              " 'done',\n",
              " 'welcome',\n",
              " 'her',\n",
              " 'case',\n",
              " 'put',\n",
              " 'personal',\n",
              " 'seems',\n",
              " 'reason',\n",
              " 'better',\n",
              " 'using',\n",
              " 'yourself',\n",
              " 'cant',\n",
              " 'actually',\n",
              " 'ask',\n",
              " 'comment',\n",
              " 'while',\n",
              " 'vandalism',\n",
              " 'feel',\n",
              " 'question',\n",
              " 'anything',\n",
              " 'believe',\n",
              " 'person',\n",
              " 'links',\n",
              " 'things',\n",
              " 'both',\n",
              " 'didnt',\n",
              " 'comments',\n",
              " 'best',\n",
              " 'ill',\n",
              " 'part',\n",
              " 'she',\n",
              " 'hope',\n",
              " 'policy',\n",
              " 'against',\n",
              " 'off',\n",
              " 'keep',\n",
              " 'already',\n",
              " 'free',\n",
              " 'wiki',\n",
              " 'thing',\n",
              " 'nothing',\n",
              " 'change',\n",
              " 'wrong',\n",
              " 'though',\n",
              " 'problem',\n",
              " 'remove',\n",
              " 'little',\n",
              " 'subject',\n",
              " '•',\n",
              " 'others',\n",
              " 'trying',\n",
              " 'tag',\n",
              " 'copyright',\n",
              " 'must',\n",
              " 'understand',\n",
              " 'above',\n",
              " 'few',\n",
              " 'anyone',\n",
              " 'speedy',\n",
              " 'last',\n",
              " 'issue',\n",
              " 'give',\n",
              " 'questions',\n",
              " 'agree',\n",
              " 'rather',\n",
              " 'years',\n",
              " 'let',\n",
              " '2',\n",
              " 'different',\n",
              " 'editor',\n",
              " 'long',\n",
              " 'reliable',\n",
              " 'making',\n",
              " 'world',\n",
              " 'come',\n",
              " 'sorry',\n",
              " 'isnt',\n",
              " 'reference',\n",
              " 'mean',\n",
              " 'continue',\n",
              " 'try',\n",
              " 'references',\n",
              " 'found',\n",
              " 'doing',\n",
              " 'text',\n",
              " 'great',\n",
              " 'leave',\n",
              " 'says',\n",
              " 'got',\n",
              " 'probably',\n",
              " 'english',\n",
              " 'original',\n",
              " 'every',\n",
              " '1',\n",
              " 'simply',\n",
              " 'word',\n",
              " 'users',\n",
              " 'fair',\n",
              " 'hello',\n",
              " 'either',\n",
              " 'check',\n",
              " 'least',\n",
              " 'adding',\n",
              " 'ip',\n",
              " 'show',\n",
              " 'site',\n",
              " 'state',\n",
              " 'else',\n",
              " 'delete',\n",
              " 'consensus',\n",
              " 'enough',\n",
              " 'request',\n",
              " 'far',\n",
              " 'opinion',\n",
              " 'created',\n",
              " 'around',\n",
              " 'life',\n",
              " 'day',\n",
              " 'between',\n",
              " 'through',\n",
              " 'example',\n",
              " 'view',\n",
              " 'yes',\n",
              " 'reverted',\n",
              " 'yet',\n",
              " 'etc',\n",
              " 'id',\n",
              " 'matter',\n",
              " 'shit',\n",
              " 'u',\n",
              " 'war',\n",
              " 'notable',\n",
              " 'contributions',\n",
              " 'given',\n",
              " 'thought',\n",
              " 'material',\n",
              " 'book',\n",
              " 'admin',\n",
              " 'write',\n",
              " 'post',\n",
              " 'down',\n",
              " 'account',\n",
              " 'clearly',\n",
              " 'having',\n",
              " 'encyclopedia',\n",
              " 'lot',\n",
              " 'support',\n",
              " 'real',\n",
              " 'bad',\n",
              " 'message',\n",
              " 'needs',\n",
              " 'images',\n",
              " 'tell',\n",
              " 'seem',\n",
              " 'called',\n",
              " 'maybe',\n",
              " 'evidence',\n",
              " 'instead',\n",
              " 'ever',\n",
              " '3',\n",
              " 'correct',\n",
              " 'saying',\n",
              " 'clear',\n",
              " 'always',\n",
              " 'number',\n",
              " 'important',\n",
              " 'further',\n",
              " 'quite',\n",
              " 'perhaps',\n",
              " 'old',\n",
              " '—',\n",
              " 'true',\n",
              " 'until',\n",
              " 'hate',\n",
              " 'states',\n",
              " 'whether',\n",
              " 'consider',\n",
              " 'written',\n",
              " 'claim',\n",
              " 'language',\n",
              " 'media',\n",
              " 'bit',\n",
              " 'once',\n",
              " 'guidelines',\n",
              " 'term',\n",
              " 'criteria',\n",
              " 'research',\n",
              " 'nigger',\n",
              " 'version',\n",
              " 'times',\n",
              " 'website',\n",
              " 'getting',\n",
              " 'fucking',\n",
              " 'theres',\n",
              " 'review',\n",
              " 'mention',\n",
              " 'pov',\n",
              " 'oh',\n",
              " 'makes',\n",
              " 'several',\n",
              " 'revert',\n",
              " 'considered',\n",
              " 'changes',\n",
              " 'cannot',\n",
              " 'words',\n",
              " 'idea',\n",
              " 'title',\n",
              " 'suck',\n",
              " 'address',\n",
              " 'notice',\n",
              " 'based',\n",
              " 'top',\n",
              " 'following',\n",
              " 'current',\n",
              " 'each',\n",
              " 'listed',\n",
              " 'means',\n",
              " 'possible',\n",
              " 'group',\n",
              " 'facts',\n",
              " 'regarding',\n",
              " 'care',\n",
              " 'rules',\n",
              " 'second',\n",
              " 'main',\n",
              " 'template',\n",
              " 'mentioned',\n",
              " 'general',\n",
              " 'year',\n",
              " 'attack',\n",
              " 'kind',\n",
              " 'whole',\n",
              " 'course',\n",
              " 'statement',\n",
              " 'left',\n",
              " 'hey',\n",
              " 'date',\n",
              " 'include',\n",
              " 'seen',\n",
              " 'three',\n",
              " 'issues',\n",
              " 'start',\n",
              " 'ass',\n",
              " 'ok',\n",
              " 'end',\n",
              " 'wikipedias',\n",
              " 'call',\n",
              " 'less',\n",
              " 'topic',\n",
              " 'gay',\n",
              " 'suggest',\n",
              " 'man',\n",
              " 'including',\n",
              " 'happy',\n",
              " 'sense',\n",
              " 'provide',\n",
              " 'create',\n",
              " 'big',\n",
              " 'days',\n",
              " 'myself',\n",
              " 'american',\n",
              " 'redirect',\n",
              " 'known',\n",
              " 'sentence',\n",
              " 'move',\n",
              " 'appropriate',\n",
              " 'changed',\n",
              " 'love',\n",
              " 'notability',\n",
              " 'explain',\n",
              " 'started',\n",
              " 'included',\n",
              " 'removing',\n",
              " 'project',\n",
              " 'anyway',\n",
              " 'info',\n",
              " 'mind',\n",
              " 'school',\n",
              " '2005',\n",
              " 'next',\n",
              " 'looking',\n",
              " 'although',\n",
              " 'picture',\n",
              " 'relevant',\n",
              " 'four',\n",
              " 'die',\n",
              " 'sign',\n",
              " 'answer',\n",
              " 'style',\n",
              " 'away',\n",
              " 'per',\n",
              " 'order',\n",
              " 'warning',\n",
              " 'wont',\n",
              " 'recent',\n",
              " 'youve',\n",
              " 'interest',\n",
              " 'community',\n",
              " 'summary',\n",
              " 'later',\n",
              " 'lol',\n",
              " 'claims',\n",
              " 'currently',\n",
              " 'discuss',\n",
              " 'interested',\n",
              " 'policies',\n",
              " 'attacks',\n",
              " 'especially',\n",
              " 'wish',\n",
              " 'wrote',\n",
              " 'able',\n",
              " 'specific',\n",
              " 'public',\n",
              " 'taken',\n",
              " 'writing',\n",
              " 'neutral',\n",
              " 'full',\n",
              " 'names',\n",
              " 'within',\n",
              " '4',\n",
              " 'position',\n",
              " 'related',\n",
              " 'below',\n",
              " 'line',\n",
              " 'wanted',\n",
              " 'during',\n",
              " 'appears',\n",
              " 'stuff',\n",
              " 'certainly',\n",
              " 'official',\n",
              " 'nice',\n",
              " 'itself',\n",
              " 'faith',\n",
              " 'everyone',\n",
              " 'wasnt',\n",
              " 'live',\n",
              " 'report',\n",
              " 'completely',\n",
              " 'according',\n",
              " 'unless',\n",
              " 'common',\n",
              " 'pretty',\n",
              " 'country',\n",
              " 'everything',\n",
              " 'looks',\n",
              " 'due',\n",
              " 'single',\n",
              " 'hes',\n",
              " 'process',\n",
              " 'contribs',\n",
              " 'news',\n",
              " 'involved',\n",
              " 'god',\n",
              " 'fat',\n",
              " 'therefore',\n",
              " 'obviously',\n",
              " 'remember',\n",
              " 'lead',\n",
              " 'hard',\n",
              " 'admins',\n",
              " 'came',\n",
              " 'edited',\n",
              " 'web',\n",
              " 'stay',\n",
              " 'learn',\n",
              " 'response',\n",
              " 'future',\n",
              " 'past',\n",
              " 'asked',\n",
              " 'truth',\n",
              " 'reading',\n",
              " 'power',\n",
              " '2006',\n",
              " 'stupid',\n",
              " 'entry',\n",
              " 'quote',\n",
              " 'posted',\n",
              " 'nor',\n",
              " 'talking',\n",
              " 'placed',\n",
              " '5',\n",
              " 'ago',\n",
              " 'similar',\n",
              " 'email',\n",
              " 'game',\n",
              " 'published',\n",
              " 'exactly',\n",
              " 'today',\n",
              " 'reasons',\n",
              " 'paragraph',\n",
              " 'faggot',\n",
              " 'city',\n",
              " 'argument',\n",
              " 'whatever',\n",
              " 'system',\n",
              " 'working',\n",
              " 'false',\n",
              " 'sandbox',\n",
              " 'moron',\n",
              " 'political',\n",
              " 'noticed',\n",
              " 'useful',\n",
              " 'havent',\n",
              " 'guy',\n",
              " 'high',\n",
              " 'regards',\n",
              " 'united',\n",
              " 'guess',\n",
              " 'appreciate',\n",
              " 'particular',\n",
              " 'deleting',\n",
              " 'form',\n",
              " 'books',\n",
              " 'government',\n",
              " 'dispute',\n",
              " 'five',\n",
              " 'british',\n",
              " 'reverting',\n",
              " 'major',\n",
              " 'problems',\n",
              " 'national',\n",
              " 'party',\n",
              " 'provided',\n",
              " 'often',\n",
              " 'ones',\n",
              " 'become',\n",
              " 'lets',\n",
              " 'tried',\n",
              " 'side',\n",
              " 'administrator',\n",
              " 'along',\n",
              " 'reply',\n",
              " 'almost',\n",
              " 'needed',\n",
              " 'stated',\n",
              " 'rule',\n",
              " 'took',\n",
              " 'search',\n",
              " 'knowledge',\n",
              " 'banned',\n",
              " 'cheers',\n",
              " 'taking',\n",
              " 'vandalize',\n",
              " '–',\n",
              " 'certain',\n",
              " '2007',\n",
              " 'username',\n",
              " 'fine',\n",
              " 'status',\n",
              " 'law',\n",
              " 'points',\n",
              " 'company',\n",
              " 'otherwise',\n",
              " 'uploaded',\n",
              " 'terms',\n",
              " 'explanation',\n",
              " 'generally',\n",
              " 'sort',\n",
              " 'entire',\n",
              " 'shows',\n",
              " 'description',\n",
              " 'whats',\n",
              " 'recently',\n",
              " 'follow',\n",
              " 'guys',\n",
              " '2008',\n",
              " 'likely',\n",
              " 'film',\n",
              " 'present',\n",
              " 'aware',\n",
              " 'saw',\n",
              " 'definition',\n",
              " 'cited',\n",
              " 'alone',\n",
              " 'google',\n",
              " 'music',\n",
              " 'soon',\n",
              " 'indeed',\n",
              " 'decide',\n",
              " 'ban',\n",
              " 'wp',\n",
              " 'appear',\n",
              " 'views',\n",
              " 'week',\n",
              " 'open',\n",
              " 'citation',\n",
              " 'contributing',\n",
              " 'actual',\n",
              " 'set',\n",
              " 'interesting',\n",
              " 'piece',\n",
              " 'c',\n",
              " 'short',\n",
              " 'white',\n",
              " 'told',\n",
              " 'theory',\n",
              " 'area',\n",
              " 'improve',\n",
              " 'external',\n",
              " 'small',\n",
              " 'story',\n",
              " 'contact',\n",
              " 'simple',\n",
              " '2004',\n",
              " 'various',\n",
              " 'allowed',\n",
              " 'moved',\n",
              " 'test',\n",
              " 'internet',\n",
              " 'obvious',\n",
              " 'family',\n",
              " 'band',\n",
              " 'attention',\n",
              " 'arent',\n",
              " 'proposed',\n",
              " 'jew',\n",
              " 'themselves',\n",
              " 'members',\n",
              " 'wouldnt',\n",
              " 'result',\n",
              " 'disagree',\n",
              " 'thus',\n",
              " 'cunt',\n",
              " 'went',\n",
              " 'type',\n",
              " 'sites',\n",
              " 'ie',\n",
              " 'context',\n",
              " 'mr',\n",
              " 'previous',\n",
              " 'nonsense',\n",
              " 'actions',\n",
              " 'tags',\n",
              " 'cite',\n",
              " 'works',\n",
              " '10',\n",
              " 'citations',\n",
              " 'jews',\n",
              " 'university',\n",
              " 're',\n",
              " 'enjoy',\n",
              " 'conflict',\n",
              " 'hours',\n",
              " 'shouldnt',\n",
              " 'proper',\n",
              " 'bias',\n",
              " 'category',\n",
              " 'job',\n",
              " 'longer',\n",
              " 'file',\n",
              " 'together',\n",
              " 'hell',\n",
              " 'sourced',\n",
              " 'sucks',\n",
              " 'addition',\n",
              " 'happened',\n",
              " 'avoid',\n",
              " 'automatically',\n",
              " 'author',\n",
              " 'valid',\n",
              " 'black',\n",
              " 'creating',\n",
              " 'deal',\n",
              " 'worked',\n",
              " 'npov',\n",
              " 'goes',\n",
              " 'himself',\n",
              " 'seriously',\n",
              " 'john',\n",
              " 'death',\n",
              " 'proof',\n",
              " 'respect',\n",
              " 'bitch',\n",
              " 'science',\n",
              " 'human',\n",
              " 'biased',\n",
              " 'comes',\n",
              " 'helpful',\n",
              " 'large',\n",
              " 'accepted',\n",
              " 'available',\n",
              " 'exist',\n",
              " 'series',\n",
              " 'tildes',\n",
              " 'opinions',\n",
              " 'hand',\n",
              " '6',\n",
              " 'indicate',\n",
              " 'sections',\n",
              " 'rights',\n",
              " 'necessary',\n",
              " 'act',\n",
              " 'meaning',\n",
              " 'attempt',\n",
              " 'accept',\n",
              " 'personally',\n",
              " 'statements',\n",
              " 'violation',\n",
              " 'months',\n",
              " 'criticism',\n",
              " 'accurate',\n",
              " 'action',\n",
              " 'usually',\n",
              " 'unblock',\n",
              " 'german',\n",
              " 'pig',\n",
              " 'cause',\n",
              " 'yeah',\n",
              " 'living',\n",
              " 'copy',\n",
              " 'debate',\n",
              " 'upon',\n",
              " 'assume',\n",
              " 'july',\n",
              " 'calling',\n",
              " 'standard',\n",
              " 'video',\n",
              " 'play',\n",
              " 'rest',\n",
              " 'tagged',\n",
              " 'doubt',\n",
              " 'sex',\n",
              " 'multiple',\n",
              " 'theyre',\n",
              " 'historical',\n",
              " 'serious',\n",
              " 'details',\n",
              " 'dick',\n",
              " 'youll',\n",
              " 'separate',\n",
              " 'manual',\n",
              " 'record',\n",
              " 'blocking',\n",
              " 'afd',\n",
              " 'explaining',\n",
              " 'situation',\n",
              " 'refer',\n",
              " 'wikiproject',\n",
              " 'heard',\n",
              " 'online',\n",
              " 'level',\n",
              " 'fix',\n",
              " 'asking',\n",
              " '7',\n",
              " 'complete',\n",
              " 'speak',\n",
              " 'lack',\n",
              " 'messages',\n",
              " 'none',\n",
              " 'prove',\n",
              " 'third',\n",
              " 'subjects',\n",
              " 'church',\n",
              " 'apparently',\n",
              " '2009',\n",
              " 'south',\n",
              " 'rationale',\n",
              " 'bullshit',\n",
              " 'data',\n",
              " 'directly',\n",
              " 'august',\n",
              " 'period',\n",
              " 'legal',\n",
              " 'behavior',\n",
              " 'difference',\n",
              " 'contribute',\n",
              " 'greek',\n",
              " 'huge',\n",
              " 'gets',\n",
              " 'wikipedian',\n",
              " 'couple',\n",
              " 'supposed',\n",
              " 'among',\n",
              " 'early',\n",
              " 'except',\n",
              " 'march',\n",
              " 'close',\n",
              " 'quality',\n",
              " 'space',\n",
              " 'meant',\n",
              " 'countries',\n",
              " 'run',\n",
              " 'team',\n",
              " 'uses',\n",
              " 'military',\n",
              " 'b',\n",
              " 'changing',\n",
              " 'existing',\n",
              " 'specifically',\n",
              " 'significant',\n",
              " '2010',\n",
              " 'pillars',\n",
              " 'fish',\n",
              " 'incorrect',\n",
              " 'culture',\n",
              " 'described',\n",
              " 'produce',\n",
              " 'jewish',\n",
              " '24',\n",
              " 'uk',\n",
              " 'disruptive',\n",
              " 'd',\n",
              " 'field',\n",
              " 'error',\n",
              " 'india',\n",
              " 'head',\n",
              " 'primary',\n",
              " 'friend',\n",
              " 'earlier',\n",
              " 'sometimes',\n",
              " 'outside',\n",
              " '20',\n",
              " 'purpose',\n",
              " 'administrators',\n",
              " 'modern',\n",
              " 'photo',\n",
              " 'table',\n",
              " 'particularly',\n",
              " 't',\n",
              " 'release',\n",
              " 'gave',\n",
              " 'box',\n",
              " 'cases',\n",
              " 'inclusion',\n",
              " 'born',\n",
              " 'pictures',\n",
              " 'readers',\n",
              " 'june',\n",
              " 'character',\n",
              " 'vote',\n",
              " 'okay',\n",
              " 'groups',\n",
              " 'anonymous',\n",
              " 'abuse',\n",
              " 'arguments',\n",
              " 'business',\n",
              " 'shall',\n",
              " 'sock',\n",
              " 'tutorial',\n",
              " 'january',\n",
              " 'friends',\n",
              " 'numbers',\n",
              " 'control',\n",
              " 'thinking',\n",
              " 'member',\n",
              " 'linked',\n",
              " 'happen',\n",
              " 'reported',\n",
              " 'contest',\n",
              " 'coming',\n",
              " 'takes',\n",
              " 'concerns',\n",
              " 'allow',\n",
              " 'wait',\n",
              " 'majority',\n",
              " 'giving',\n",
              " '8',\n",
              " 'bring',\n",
              " 'eg',\n",
              " 'worth',\n",
              " 'kill',\n",
              " 'totally',\n",
              " 'red',\n",
              " 'force',\n",
              " 'decided',\n",
              " 'discussed',\n",
              " 'house',\n",
              " 'finally',\n",
              " 'absolutely',\n",
              " 'putting',\n",
              " 'scientific',\n",
              " 'respond',\n",
              " 'mistake',\n",
              " 'decision',\n",
              " 'de',\n",
              " 'lost',\n",
              " 'entirely',\n",
              " '100',\n",
              " 'towards',\n",
              " 'merely',\n",
              " 'home',\n",
              " 'neither',\n",
              " 'dear',\n",
              " 'independent',\n",
              " 'international',\n",
              " 'song',\n",
              " 'balls',\n",
              " 'wants',\n",
              " 'possibly',\n",
              " 'unsigned',\n",
              " 'million',\n",
              " 'irrelevant',\n",
              " 'standards',\n",
              " 'april',\n",
              " '12',\n",
              " 'press',\n",
              " 'figure',\n",
              " 'organization',\n",
              " 'looked',\n",
              " 'inappropriate',\n",
              " 'chance',\n",
              " 'posting',\n",
              " 'population',\n",
              " 'advice',\n",
              " 'posts',\n",
              " 'north',\n",
              " 'events',\n",
              " 'unfortunately',\n",
              " 'named',\n",
              " 'album',\n",
              " ...]"
            ]
          },
          "metadata": {},
          "execution_count": 12
        }
      ],
      "source": [
        "vectorizer.get_vocabulary()"
      ]
    },
    {
      "cell_type": "code",
      "execution_count": null,
      "metadata": {
        "colab": {
          "base_uri": "https://localhost:8080/"
        },
        "id": "0iIa0zu0w8a7",
        "outputId": "910d7337-a2a0-4c50-ab06-b997c6a44dae"
      },
      "outputs": [
        {
          "output_type": "execute_result",
          "data": {
            "text/plain": [
              "<tf.Tensor: shape=(5,), dtype=int64, numpy=array([  383,    30, 15800,   862,   177])>"
            ]
          },
          "metadata": {},
          "execution_count": 13
        }
      ],
      "source": [
        "vectorizer(\"Theres an imposter among us\")[:5]"
      ]
    },
    {
      "cell_type": "code",
      "execution_count": null,
      "metadata": {
        "id": "DvBccTVsxNbP"
      },
      "outputs": [],
      "source": [
        "vectorizedText = vectorizer(x.values)"
      ]
    },
    {
      "cell_type": "code",
      "execution_count": null,
      "metadata": {
        "colab": {
          "base_uri": "https://localhost:8080/"
        },
        "id": "Ue40aKQTx781",
        "outputId": "2043853c-0091-4495-ea2f-e193901936e3"
      },
      "outputs": [
        {
          "output_type": "execute_result",
          "data": {
            "text/plain": [
              "<tf.Tensor: shape=(159571, 1800), dtype=int64, numpy=\n",
              "array([[  645,    76,     2, ...,     0,     0,     0],\n",
              "       [    1,    54,  2489, ...,     0,     0,     0],\n",
              "       [  425,   441,    70, ...,     0,     0,     0],\n",
              "       ...,\n",
              "       [32445,  7392,   383, ...,     0,     0,     0],\n",
              "       [    5,    12,   534, ...,     0,     0,     0],\n",
              "       [    5,     8,   130, ...,     0,     0,     0]])>"
            ]
          },
          "metadata": {},
          "execution_count": 15
        }
      ],
      "source": [
        "vectorizedText"
      ]
    },
    {
      "cell_type": "code",
      "execution_count": null,
      "metadata": {
        "id": "ubKE4x4NyMLF"
      },
      "outputs": [],
      "source": [
        "#MCSHBAP - map, cache, suffle, batch, prefetch\n",
        "dataset = tf.data.Dataset.from_tensor_slices((vectorizedText, y))\n",
        "dataset = dataset.cache()\n",
        "dataset = dataset.shuffle(160000)\n",
        "dataset = dataset.batch(16)\n",
        "dataset = dataset.prefetch(8) #helps bottleneck"
      ]
    },
    {
      "cell_type": "code",
      "execution_count": null,
      "metadata": {
        "colab": {
          "base_uri": "https://localhost:8080/"
        },
        "id": "1mvLHuhR3ycK",
        "outputId": "05e0e60f-cdc8-4c38-9e2f-742f004e8d8d"
      },
      "outputs": [
        {
          "output_type": "execute_result",
          "data": {
            "text/plain": [
              "(array([[    6,  1036,    13, ...,     0,     0,     0],\n",
              "        [   29,  2472,    25, ...,     0,     0,     0],\n",
              "        [47084, 22902,   288, ...,     0,     0,     0],\n",
              "        ...,\n",
              "        [    7,    20,     6, ...,     0,     0,     0],\n",
              "        [ 2238,   168,   600, ...,     0,     0,     0],\n",
              "        [ 2120,  1004,    15, ...,     0,     0,     0]]),\n",
              " array([[0, 0, 0, 0, 0, 0],\n",
              "        [0, 0, 0, 0, 0, 0],\n",
              "        [0, 0, 0, 0, 0, 0],\n",
              "        [0, 0, 0, 0, 0, 0],\n",
              "        [0, 0, 0, 0, 0, 0],\n",
              "        [0, 0, 0, 0, 0, 0],\n",
              "        [1, 0, 0, 0, 0, 0],\n",
              "        [1, 1, 1, 0, 1, 0],\n",
              "        [0, 0, 0, 0, 0, 0],\n",
              "        [0, 0, 0, 0, 0, 0],\n",
              "        [0, 0, 0, 0, 0, 0],\n",
              "        [0, 0, 0, 0, 0, 0],\n",
              "        [0, 0, 0, 0, 0, 0],\n",
              "        [1, 0, 1, 0, 1, 0],\n",
              "        [0, 0, 0, 0, 0, 0],\n",
              "        [0, 0, 0, 0, 0, 0]]))"
            ]
          },
          "metadata": {},
          "execution_count": 17
        }
      ],
      "source": [
        "dataset.as_numpy_iterator().next()"
      ]
    },
    {
      "cell_type": "code",
      "execution_count": null,
      "metadata": {
        "id": "dJaqzRKz5Hjy"
      },
      "outputs": [],
      "source": [
        "batch_x, batch_y = dataset.as_numpy_iterator().next()"
      ]
    },
    {
      "cell_type": "code",
      "execution_count": null,
      "metadata": {
        "colab": {
          "base_uri": "https://localhost:8080/"
        },
        "id": "_FLkWvxS5ZYw",
        "outputId": "51993585-f2ec-4c96-fc44-6e4d27871cc3"
      },
      "outputs": [
        {
          "output_type": "execute_result",
          "data": {
            "text/plain": [
              "(16, 1800)"
            ]
          },
          "metadata": {},
          "execution_count": 19
        }
      ],
      "source": [
        "batch_x\n",
        "batch_x.shape"
      ]
    },
    {
      "cell_type": "code",
      "execution_count": null,
      "metadata": {
        "colab": {
          "base_uri": "https://localhost:8080/"
        },
        "id": "mib9sEQ45lbZ",
        "outputId": "4fd44601-2278-4a3a-ec12-c6b2284b0907"
      },
      "outputs": [
        {
          "output_type": "execute_result",
          "data": {
            "text/plain": [
              "array([[0, 0, 0, 0, 0, 0],\n",
              "       [1, 0, 0, 0, 0, 0],\n",
              "       [0, 0, 0, 0, 0, 0],\n",
              "       [0, 0, 0, 0, 0, 0],\n",
              "       [0, 0, 0, 0, 0, 0],\n",
              "       [0, 0, 0, 0, 0, 0],\n",
              "       [0, 0, 0, 0, 0, 0],\n",
              "       [0, 0, 0, 0, 0, 0],\n",
              "       [0, 0, 0, 0, 0, 0],\n",
              "       [1, 0, 0, 0, 1, 0],\n",
              "       [0, 0, 0, 0, 0, 0],\n",
              "       [0, 0, 0, 0, 0, 0],\n",
              "       [0, 0, 0, 0, 0, 0],\n",
              "       [0, 0, 0, 0, 0, 0],\n",
              "       [0, 0, 0, 0, 0, 0],\n",
              "       [0, 0, 0, 0, 0, 0]])"
            ]
          },
          "metadata": {},
          "execution_count": 20
        }
      ],
      "source": [
        "batch_y"
      ]
    },
    {
      "cell_type": "code",
      "execution_count": null,
      "metadata": {
        "colab": {
          "base_uri": "https://localhost:8080/"
        },
        "id": "qaYDNCtT5m1o",
        "outputId": "b01cec24-92b4-437b-8c5d-d4c57eaa3f5c"
      },
      "outputs": [
        {
          "output_type": "execute_result",
          "data": {
            "text/plain": [
              "9974"
            ]
          },
          "metadata": {},
          "execution_count": 21
        }
      ],
      "source": [
        "len(dataset) #9974 batches of 16 samples total data = 9947*16"
      ]
    },
    {
      "cell_type": "code",
      "execution_count": null,
      "metadata": {
        "id": "n6CSXtO46QHD"
      },
      "outputs": [],
      "source": [
        "train = dataset.take(int(len(dataset)*.7))\n",
        "val = dataset.skip(int(len(dataset)*.7)).take(int(len(dataset)*.2))\n",
        "test = dataset.skip(int(len(dataset)*.9)).take(int(len(dataset)*.1))"
      ]
    },
    {
      "cell_type": "code",
      "execution_count": null,
      "metadata": {
        "colab": {
          "base_uri": "https://localhost:8080/"
        },
        "id": "BJLcoChu6-7X",
        "outputId": "875ab343-c019-44a3-e759-209727955139"
      },
      "outputs": [
        {
          "output_type": "execute_result",
          "data": {
            "text/plain": [
              "6981"
            ]
          },
          "metadata": {},
          "execution_count": 23
        }
      ],
      "source": [
        "len(train)"
      ]
    },
    {
      "cell_type": "code",
      "execution_count": null,
      "metadata": {
        "id": "AwDqcs877IV9"
      },
      "outputs": [],
      "source": [
        "train_generator = train.as_numpy_iterator()"
      ]
    },
    {
      "cell_type": "code",
      "execution_count": null,
      "metadata": {
        "colab": {
          "base_uri": "https://localhost:8080/"
        },
        "id": "OJw10XBZ7r5u",
        "outputId": "684f8bbc-b984-4459-d0fc-81050e413c81"
      },
      "outputs": [
        {
          "output_type": "execute_result",
          "data": {
            "text/plain": [
              "(array([[   14,     9,    30, ...,     0,     0,     0],\n",
              "        [28675,    46,   270, ...,     0,     0,     0],\n",
              "        [64897,    33,     7, ...,     0,     0,     0],\n",
              "        ...,\n",
              "        [    2,   285,     9, ...,     0,     0,     0],\n",
              "        [  548,  3043, 13674, ...,     0,     0,     0],\n",
              "        [   94,  2274,    16, ...,     0,     0,     0]]),\n",
              " array([[0, 0, 0, 0, 0, 0],\n",
              "        [0, 0, 0, 0, 0, 0],\n",
              "        [0, 0, 0, 0, 0, 0],\n",
              "        [0, 0, 0, 0, 0, 0],\n",
              "        [0, 0, 0, 0, 0, 0],\n",
              "        [0, 0, 0, 0, 0, 0],\n",
              "        [0, 0, 0, 0, 0, 0],\n",
              "        [1, 0, 0, 0, 0, 0],\n",
              "        [0, 0, 0, 0, 0, 0],\n",
              "        [1, 0, 1, 0, 1, 0],\n",
              "        [0, 0, 0, 0, 0, 0],\n",
              "        [0, 0, 0, 0, 0, 0],\n",
              "        [0, 0, 0, 0, 0, 0],\n",
              "        [0, 0, 0, 0, 0, 0],\n",
              "        [0, 0, 0, 0, 0, 0],\n",
              "        [0, 0, 0, 0, 0, 0]]))"
            ]
          },
          "metadata": {},
          "execution_count": 25
        }
      ],
      "source": [
        "train_generator.next()"
      ]
    },
    {
      "cell_type": "markdown",
      "source": [
        "# Creating Sequential Model"
      ],
      "metadata": {
        "id": "lcV7IsKPubWI"
      }
    },
    {
      "cell_type": "code",
      "execution_count": null,
      "metadata": {
        "id": "qXWBYVeD7vuv"
      },
      "outputs": [],
      "source": [
        "from tensorflow.keras.models import Sequential\n",
        "from tensorflow.keras.layers import LSTM, Dropout, Bidirectional, Embedding, Dense"
      ]
    },
    {
      "cell_type": "code",
      "execution_count": null,
      "metadata": {
        "id": "zcHCFrnO10hJ"
      },
      "outputs": [],
      "source": [
        "model = Sequential()\n",
        "# Creating the embedding layer\n",
        "model.add(Embedding(MAX_WORDS+1, 32))\n",
        "# Bidirectional LSTM Layer\n",
        "model.add(Bidirectional(LSTM(32, activation='tanh')))\n",
        "# Feature extractor Fully connected layers\n",
        "model.add(Dense(128, activation='relu'))\n",
        "model.add(Dense(256, activation='relu'))\n",
        "model.add(Dense(128, activation='relu'))\n",
        "# Final layer\n",
        "model.add(Dense(6, activation='sigmoid'))"
      ]
    },
    {
      "cell_type": "code",
      "execution_count": null,
      "metadata": {
        "id": "tsjAZGPCSohh"
      },
      "outputs": [],
      "source": [
        "model.compile(loss='BinaryCrossentropy', optimizer='Adam')"
      ]
    },
    {
      "cell_type": "code",
      "execution_count": null,
      "metadata": {
        "colab": {
          "base_uri": "https://localhost:8080/"
        },
        "id": "am6A06kUV5X4",
        "outputId": "a28d5c53-2aa4-4d6d-a5ed-97461f324dd6"
      },
      "outputs": [
        {
          "output_type": "stream",
          "name": "stdout",
          "text": [
            "Model: \"sequential\"\n",
            "_________________________________________________________________\n",
            " Layer (type)                Output Shape              Param #   \n",
            "=================================================================\n",
            " embedding (Embedding)       (None, None, 32)          6400032   \n",
            "                                                                 \n",
            " bidirectional (Bidirectiona  (None, 64)               16640     \n",
            " l)                                                              \n",
            "                                                                 \n",
            " dense (Dense)               (None, 128)               8320      \n",
            "                                                                 \n",
            " dense_1 (Dense)             (None, 256)               33024     \n",
            "                                                                 \n",
            " dense_2 (Dense)             (None, 128)               32896     \n",
            "                                                                 \n",
            " dense_3 (Dense)             (None, 6)                 774       \n",
            "                                                                 \n",
            "=================================================================\n",
            "Total params: 6,491,686\n",
            "Trainable params: 6,491,686\n",
            "Non-trainable params: 0\n",
            "_________________________________________________________________\n"
          ]
        }
      ],
      "source": [
        "model.summary()"
      ]
    },
    {
      "cell_type": "code",
      "execution_count": null,
      "metadata": {
        "colab": {
          "base_uri": "https://localhost:8080/"
        },
        "id": "JogvaSyGV7DX",
        "outputId": "0bdd9f2f-10be-4f05-ac0a-6f663ea47a44"
      },
      "outputs": [
        {
          "output_type": "stream",
          "name": "stdout",
          "text": [
            "Epoch 1/10\n",
            "6981/6981 [==============================] - 670s 96ms/step - loss: 0.0460 - val_loss: 0.0414\n",
            "Epoch 2/10\n",
            "6981/6981 [==============================] - 682s 98ms/step - loss: 0.0417 - val_loss: 0.0346\n",
            "Epoch 3/10\n",
            "6981/6981 [==============================] - 677s 97ms/step - loss: 0.0367 - val_loss: 0.0329\n",
            "Epoch 4/10\n",
            "6981/6981 [==============================] - 676s 97ms/step - loss: 0.0332 - val_loss: 0.0284\n",
            "Epoch 5/10\n",
            "6981/6981 [==============================] - 678s 97ms/step - loss: 0.0299 - val_loss: 0.0271\n",
            "Epoch 6/10\n",
            "6981/6981 [==============================] - 675s 97ms/step - loss: 0.0270 - val_loss: 0.0237\n",
            "Epoch 7/10\n",
            "6981/6981 [==============================] - 672s 96ms/step - loss: 0.0243 - val_loss: 0.0212\n",
            "Epoch 8/10\n",
            "6981/6981 [==============================] - 675s 97ms/step - loss: 0.0219 - val_loss: 0.0183\n",
            "Epoch 9/10\n",
            "6981/6981 [==============================] - 664s 95ms/step - loss: 0.0194 - val_loss: 0.0172\n",
            "Epoch 10/10\n",
            "6981/6981 [==============================] - 666s 95ms/step - loss: 0.0175 - val_loss: 0.0142\n"
          ]
        }
      ],
      "source": [
        "history = model.fit(train, epochs=10, validation_data = val)"
      ]
    },
    {
      "cell_type": "code",
      "execution_count": null,
      "metadata": {
        "id": "Bz8rF_umf3Ix"
      },
      "outputs": [],
      "source": [
        "from matplotlib import pyplot as plt"
      ]
    },
    {
      "cell_type": "code",
      "execution_count": null,
      "metadata": {
        "colab": {
          "base_uri": "https://localhost:8080/",
          "height": 283
        },
        "id": "cdWuHAuFgQrK",
        "outputId": "207c94c1-0adf-4ad0-e814-8dd4b874cef1"
      },
      "outputs": [
        {
          "output_type": "display_data",
          "data": {
            "text/plain": [
              "<Figure size 1080x864 with 0 Axes>"
            ]
          },
          "metadata": {}
        },
        {
          "output_type": "display_data",
          "data": {
            "text/plain": [
              "<Figure size 432x288 with 1 Axes>"
            ],
            "image/png": "[encoded data removed]"
          },
          "metadata": {
            "needs_background": "light"
          }
        }
      ],
      "source": [
        "plt.figure(figsize=(15,12))\n",
        "pd.DataFrame(history.history).plot()\n",
        "plt.show()"
      ]
    },
    {
      "cell_type": "markdown",
      "source": [
        "# Making Predictions"
      ],
      "metadata": {
        "id": "g5qGaklNu1En"
      }
    },
    {
      "cell_type": "code",
      "execution_count": null,
      "metadata": {
        "colab": {
          "base_uri": "https://localhost:8080/"
        },
        "id": "pTwGhlL3gohk",
        "outputId": "a60f4d16-2a52-41f3-e5e3-50f5e8b661bf"
      },
      "outputs": [
        {
          "output_type": "execute_result",
          "data": {
            "text/plain": [
              "array([[   8,   47, 1798, ...,    0,    0,    0]])"
            ]
          },
          "metadata": {},
          "execution_count": 54
        }
      ],
      "source": [
        "input_text = vectorizer('I would murder you!')\n",
        "np.expand_dims(input_text, 0)"
      ]
    },
    {
      "cell_type": "code",
      "execution_count": null,
      "metadata": {
        "colab": {
          "base_uri": "https://localhost:8080/"
        },
        "id": "kK6msZLZkfbd",
        "outputId": "d2813650-2031-4c3e-c116-3730ebdca214"
      },
      "outputs": [
        {
          "output_type": "execute_result",
          "data": {
            "text/plain": [
              "Index(['toxic', 'severe_toxic', 'obscene', 'threat', 'insult',\n",
              "       'identity_hate'],\n",
              "      dtype='object')"
            ]
          },
          "metadata": {},
          "execution_count": 55
        }
      ],
      "source": [
        "df.columns[2:]"
      ]
    },
    {
      "cell_type": "code",
      "execution_count": null,
      "metadata": {
        "id": "Lqyi7Pahs6L8"
      },
      "outputs": [],
      "source": [
        "batch =  test.as_numpy_iterator().next()"
      ]
    },
    {
      "cell_type": "code",
      "execution_count": null,
      "metadata": {
        "id": "ysoB76E0tH31"
      },
      "outputs": [],
      "source": [
        "batch_x, batch_y = test.as_numpy_iterator().next()"
      ]
    },
    {
      "cell_type": "code",
      "execution_count": null,
      "metadata": {
        "colab": {
          "base_uri": "https://localhost:8080/"
        },
        "id": "5ukRPuK7tZSF",
        "outputId": "b2b28498-8504-461a-b195-73b6afc125ee"
      },
      "outputs": [
        {
          "output_type": "execute_result",
          "data": {
            "text/plain": [
              "array([[0, 0, 0, 0, 0, 0],\n",
              "       [0, 0, 0, 0, 0, 0],\n",
              "       [0, 0, 0, 0, 0, 0],\n",
              "       [0, 0, 0, 0, 0, 0],\n",
              "       [0, 0, 0, 0, 0, 0],\n",
              "       [0, 0, 0, 0, 0, 0],\n",
              "       [0, 0, 0, 0, 0, 0],\n",
              "       [0, 0, 0, 0, 0, 0],\n",
              "       [0, 0, 0, 0, 0, 0],\n",
              "       [0, 0, 0, 0, 0, 0],\n",
              "       [0, 0, 0, 0, 0, 0],\n",
              "       [0, 0, 0, 0, 0, 0],\n",
              "       [0, 0, 0, 0, 0, 0],\n",
              "       [0, 0, 0, 0, 0, 0],\n",
              "       [0, 0, 0, 0, 0, 0],\n",
              "       [0, 0, 0, 0, 0, 0]])"
            ]
          },
          "metadata": {},
          "execution_count": 58
        }
      ],
      "source": [
        "(model.predict(batch_x) > 0.5).astype(int)"
      ]
    },
    {
      "cell_type": "code",
      "execution_count": null,
      "metadata": {
        "colab": {
          "base_uri": "https://localhost:8080/"
        },
        "id": "Va6iV1-giuQv",
        "outputId": "6bd7e522-53b5-4780-97f5-c9c0c993504c"
      },
      "outputs": [
        {
          "output_type": "execute_result",
          "data": {
            "text/plain": [
              "array([[9.5389694e-02, 5.6458273e-08, 3.2597061e-03, 9.8003214e-04,\n",
              "        4.4542286e-03, 9.4989652e-04]], dtype=float32)"
            ]
          },
          "metadata": {},
          "execution_count": 59
        }
      ],
      "source": [
        "res = model.predict(np.expand_dims(input_text, 0))\n",
        "res"
      ]
    },
    {
      "cell_type": "markdown",
      "source": [
        "# Evaluating Model"
      ],
      "metadata": {
        "id": "g0lXmy5JvKMY"
      }
    },
    {
      "cell_type": "code",
      "execution_count": null,
      "metadata": {
        "id": "NFRQ5IxIjytP"
      },
      "outputs": [],
      "source": [
        "from tensorflow.keras.metrics import Precision, Recall, CategoricalAccuracy"
      ]
    },
    {
      "cell_type": "code",
      "execution_count": null,
      "metadata": {
        "id": "me-CMhgtFupO"
      },
      "outputs": [],
      "source": [
        "pre = Precision()\n",
        "re = Recall()\n",
        "acc = CategoricalAccuracy()"
      ]
    },
    {
      "cell_type": "code",
      "execution_count": null,
      "metadata": {
        "id": "y4Uo_5eaFw9i"
      },
      "outputs": [],
      "source": [
        "for batch in test.as_numpy_iterator(): \n",
        "    # Unpack the batch \n",
        "    X_true, y_true = batch\n",
        "    # Make a prediction \n",
        "    yhat = model.predict(X_true)\n",
        "    \n",
        "    # Flatten the predictions\n",
        "    y_true = y_true.flatten()\n",
        "    yhat = yhat.flatten()\n",
        "    \n",
        "    pre.update_state(y_true, yhat)\n",
        "    re.update_state(y_true, yhat)\n",
        "    acc.update_state(y_true, yhat)"
      ]
    },
    {
      "cell_type": "code",
      "execution_count": null,
      "metadata": {
        "colab": {
          "base_uri": "https://localhost:8080/"
        },
        "id": "wxKj5EWYFz1D",
        "outputId": "2ca4ddd2-8d1f-477b-8189-8f5920d41621"
      },
      "outputs": [
        {
          "output_type": "stream",
          "name": "stdout",
          "text": [
            "Precision: 0.9209753274917603, Recall:0.9245060682296753, Accuracy:0.5005015134811401\n"
          ]
        }
      ],
      "source": [
        "print(f'Precision: {pre.result().numpy()}, Recall:{re.result().numpy()}, Accuracy:{acc.result().numpy()}')"
      ]
    },
    {
      "cell_type": "code",
      "source": [
        "model.save('toxicity.h5')\n",
        "from google.colab import files\n",
        "files.download('toxicity.h5')"
      ],
      "metadata": {
        "colab": {
          "base_uri": "https://localhost:8080/",
          "height": 17
        },
        "id": "Q_bB2jOvVvSK",
        "outputId": "8e383911-39f9-4582-fcea-7e930f3001f7"
      },
      "execution_count": null,
      "outputs": [
        {
          "output_type": "display_data",
          "data": {
            "text/plain": [
              "<IPython.core.display.Javascript object>"
            ],
            "application/javascript": [
              "\n",
              "    async function download(id, filename, size) {\n",
              "      if (!google.colab.kernel.accessAllowed) {\n",
              "        return;\n",
              "      }\n",
              "      const div = document.createElement('div');\n",
              "      const label = document.createElement('label');\n",
              "      label.textContent = `Downloading \"${filename}\": `;\n",
              "      div.appendChild(label);\n",
              "      const progress = document.createElement('progress');\n",
              "      progress.max = size;\n",
              "      div.appendChild(progress);\n",
              "      document.body.appendChild(div);\n",
              "\n",
              "      const buffers = [];\n",
              "      let downloaded = 0;\n",
              "\n",
              "      const channel = await google.colab.kernel.comms.open(id);\n",
              "      // Send a message to notify the kernel that we're ready.\n",
              "      channel.send({})\n",
              "\n",
              "      for await (const message of channel.messages) {\n",
              "        // Send a message to notify the kernel that we're ready.\n",
              "        channel.send({})\n",
              "        if (message.buffers) {\n",
              "          for (const buffer of message.buffers) {\n",
              "            buffers.push(buffer);\n",
              "            downloaded += buffer.byteLength;\n",
              "            progress.value = downloaded;\n",
              "          }\n",
              "        }\n",
              "      }\n",
              "      const blob = new Blob(buffers, {type: 'application/binary'});\n",
              "      const a = document.createElement('a');\n",
              "      a.href = window.URL.createObjectURL(blob);\n",
              "      a.download = filename;\n",
              "      div.appendChild(a);\n",
              "      a.click();\n",
              "      div.remove();\n",
              "    }\n",
              "  "
            ]
          },
          "metadata": {}
        },
        {
          "output_type": "display_data",
          "data": {
            "text/plain": [
              "<IPython.core.display.Javascript object>"
            ],
            "application/javascript": [
              "download(\"download_0ba973b8-8841-439f-a9b7-46943cad4f19\", \"toxicity.h5\", 77971544)"
            ]
          },
          "metadata": {}
        }
      ]
    },
    {
      "cell_type": "code",
      "source": [
        "model_json = model.to_json()\n",
        "with open(\"toxicity.json\", \"w\") as json_file:\n",
        "    json_file.write(model_json)\n",
        "    \n",
        "files.download('toxicity.json')"
      ],
      "metadata": {
        "id": "3zDbXQWAFCTD",
        "outputId": "e04f0b52-a084-48e6-9d56-ebef2376bbe1",
        "colab": {
          "base_uri": "https://localhost:8080/",
          "height": 17
        }
      },
      "execution_count": null,
      "outputs": [
        {
          "output_type": "display_data",
          "data": {
            "text/plain": [
              "<IPython.core.display.Javascript object>"
            ],
            "application/javascript": [
              "\n",
              "    async function download(id, filename, size) {\n",
              "      if (!google.colab.kernel.accessAllowed) {\n",
              "        return;\n",
              "      }\n",
              "      const div = document.createElement('div');\n",
              "      const label = document.createElement('label');\n",
              "      label.textContent = `Downloading \"${filename}\": `;\n",
              "      div.appendChild(label);\n",
              "      const progress = document.createElement('progress');\n",
              "      progress.max = size;\n",
              "      div.appendChild(progress);\n",
              "      document.body.appendChild(div);\n",
              "\n",
              "      const buffers = [];\n",
              "      let downloaded = 0;\n",
              "\n",
              "      const channel = await google.colab.kernel.comms.open(id);\n",
              "      // Send a message to notify the kernel that we're ready.\n",
              "      channel.send({})\n",
              "\n",
              "      for await (const message of channel.messages) {\n",
              "        // Send a message to notify the kernel that we're ready.\n",
              "        channel.send({})\n",
              "        if (message.buffers) {\n",
              "          for (const buffer of message.buffers) {\n",
              "            buffers.push(buffer);\n",
              "            downloaded += buffer.byteLength;\n",
              "            progress.value = downloaded;\n",
              "          }\n",
              "        }\n",
              "      }\n",
              "      const blob = new Blob(buffers, {type: 'application/binary'});\n",
              "      const a = document.createElement('a');\n",
              "      a.href = window.URL.createObjectURL(blob);\n",
              "      a.download = filename;\n",
              "      div.appendChild(a);\n",
              "      a.click();\n",
              "      div.remove();\n",
              "    }\n",
              "  "
            ]
          },
          "metadata": {}
        },
        {
          "output_type": "display_data",
          "data": {
            "text/plain": [
              "<IPython.core.display.Javascript object>"
            ],
            "application/javascript": [
              "download(\"download_af04452d-717d-464c-a1c8-4de79bff240c\", \"toxicity.json\", 3381)"
            ]
          },
          "metadata": {}
        }
      ]
    },
    {
      "cell_type": "markdown",
      "source": [
        "# Test and Gradio"
      ],
      "metadata": {
        "id": "y1b-I74rvUqn"
      }
    },
    {
      "cell_type": "code",
      "source": [
        "model = tf.keras.models.load_model('toxicity.h5')"
      ],
      "metadata": {
        "id": "3Hlm1hE7YD_Y"
      },
      "execution_count": null,
      "outputs": []
    },
    {
      "cell_type": "code",
      "source": [
        "input_str = vectorizer('hey i freaken hate you!')\n",
        "res = model.predict(np.expand_dims(input_str,0))\n",
        "res"
      ],
      "metadata": {
        "colab": {
          "base_uri": "https://localhost:8080/"
        },
        "id": "POIvWpvfYNLT",
        "outputId": "84d1f885-a15b-4c70-9bb7-bd459cc537ef"
      },
      "execution_count": null,
      "outputs": [
        {
          "output_type": "execute_result",
          "data": {
            "text/plain": [
              "array([[8.6802775e-01, 8.3830720e-04, 7.5105704e-02, 1.0672671e-03,\n",
              "        4.4425774e-02, 5.9962017e-03]], dtype=float32)"
            ]
          },
          "metadata": {},
          "execution_count": 66
        }
      ]
    },
    {
      "cell_type": "code",
      "source": [
        "def score_comment(comment):\n",
        "    vectorized_comment = vectorizer([comment])\n",
        "    results = model.predict(vectorized_comment)\n",
        "    \n",
        "    text = ''\n",
        "    for idx, col in enumerate(df.columns[2:]):\n",
        "        text += '{}: {}\\n'.format(col, results[0][idx]>0.5)\n",
        "    \n",
        "    return text"
      ],
      "metadata": {
        "id": "L-A-hIRNYU1H"
      },
      "execution_count": null,
      "outputs": []
    },
    {
      "cell_type": "code",
      "source": [
        "!pip install gradio jinja2\n",
        "import gradio as gr"
      ],
      "metadata": {
        "colab": {
          "base_uri": "https://localhost:8080/"
        },
        "id": "eShx5byoYkwd",
        "outputId": "041028d3-2f4a-4e29-de49-23e8134ab50f"
      },
      "execution_count": null,
      "outputs": [
        {
          "output_type": "stream",
          "name": "stdout",
          "text": [
            "Looking in indexes: https://pypi.org/simple, https://us-python.pkg.dev/colab-wheels/public/simple/\n",
            "Requirement already satisfied: gradio in /usr/local/lib/python3.7/dist-packages (3.0.18)\n",
            "Requirement already satisfied: jinja2 in /usr/local/lib/python3.7/dist-packages (2.11.3)\n",
            "Requirement already satisfied: markdown-it-py[linkify,plugins] in /usr/local/lib/python3.7/dist-packages (from gradio) (2.1.0)\n",
            "Requirement already satisfied: pycryptodome in /usr/local/lib/python3.7/dist-packages (from gradio) (3.14.1)\n",
            "Requirement already satisfied: pydub in /usr/local/lib/python3.7/dist-packages (from gradio) (0.25.1)\n",
            "Requirement already satisfied: analytics-python in /usr/local/lib/python3.7/dist-packages (from gradio) (1.4.0)\n",
            "Requirement already satisfied: ffmpy in /usr/local/lib/python3.7/dist-packages (from gradio) (0.3.0)\n",
            "Requirement already satisfied: python-multipart in /usr/local/lib/python3.7/dist-packages (from gradio) (0.0.5)\n",
            "Requirement already satisfied: aiohttp in /usr/local/lib/python3.7/dist-packages (from gradio) (3.8.1)\n",
            "Requirement already satisfied: pandas in /usr/local/lib/python3.7/dist-packages (from gradio) (1.3.5)\n",
            "Requirement already satisfied: orjson in /usr/local/lib/python3.7/dist-packages (from gradio) (3.7.2)\n",
            "Requirement already satisfied: fsspec in /usr/local/lib/python3.7/dist-packages (from gradio) (2022.5.0)\n",
            "Requirement already satisfied: numpy in /usr/local/lib/python3.7/dist-packages (from gradio) (1.21.6)\n",
            "Requirement already satisfied: paramiko in /usr/local/lib/python3.7/dist-packages (from gradio) (2.11.0)\n",
            "Requirement already satisfied: matplotlib in /usr/local/lib/python3.7/dist-packages (from gradio) (3.2.2)\n",
            "Requirement already satisfied: pillow in /usr/local/lib/python3.7/dist-packages (from gradio) (7.1.2)\n",
            "Requirement already satisfied: fastapi in /usr/local/lib/python3.7/dist-packages (from gradio) (0.78.0)\n",
            "Requirement already satisfied: requests in /usr/local/lib/python3.7/dist-packages (from gradio) (2.23.0)\n",
            "Requirement already satisfied: uvicorn in /usr/local/lib/python3.7/dist-packages (from gradio) (0.17.6)\n",
            "Requirement already satisfied: MarkupSafe>=0.23 in /usr/local/lib/python3.7/dist-packages (from jinja2) (2.0.1)\n",
            "Requirement already satisfied: frozenlist>=1.1.1 in /usr/local/lib/python3.7/dist-packages (from aiohttp->gradio) (1.3.0)\n",
            "Requirement already satisfied: typing-extensions>=3.7.4 in /usr/local/lib/python3.7/dist-packages (from aiohttp->gradio) (4.2.0)\n",
            "Requirement already satisfied: charset-normalizer<3.0,>=2.0 in /usr/local/lib/python3.7/dist-packages (from aiohttp->gradio) (2.0.12)\n",
            "Requirement already satisfied: aiosignal>=1.1.2 in /usr/local/lib/python3.7/dist-packages (from aiohttp->gradio) (1.2.0)\n",
            "Requirement already satisfied: multidict<7.0,>=4.5 in /usr/local/lib/python3.7/dist-packages (from aiohttp->gradio) (6.0.2)\n",
            "Requirement already satisfied: yarl<2.0,>=1.0 in /usr/local/lib/python3.7/dist-packages (from aiohttp->gradio) (1.7.2)\n",
            "Requirement already satisfied: asynctest==0.13.0 in /usr/local/lib/python3.7/dist-packages (from aiohttp->gradio) (0.13.0)\n",
            "Requirement already satisfied: attrs>=17.3.0 in /usr/local/lib/python3.7/dist-packages (from aiohttp->gradio) (21.4.0)\n",
            "Requirement already satisfied: async-timeout<5.0,>=4.0.0a3 in /usr/local/lib/python3.7/dist-packages (from aiohttp->gradio) (4.0.2)\n",
            "Requirement already satisfied: idna>=2.0 in /usr/local/lib/python3.7/dist-packages (from yarl<2.0,>=1.0->aiohttp->gradio) (2.10)\n",
            "Requirement already satisfied: six>=1.5 in /usr/local/lib/python3.7/dist-packages (from analytics-python->gradio) (1.15.0)\n",
            "Requirement already satisfied: monotonic>=1.5 in /usr/local/lib/python3.7/dist-packages (from analytics-python->gradio) (1.6)\n",
            "Requirement already satisfied: python-dateutil>2.1 in /usr/local/lib/python3.7/dist-packages (from analytics-python->gradio) (2.8.2)\n",
            "Requirement already satisfied: backoff==1.10.0 in /usr/local/lib/python3.7/dist-packages (from analytics-python->gradio) (1.10.0)\n",
            "Requirement already satisfied: urllib3!=1.25.0,!=1.25.1,<1.26,>=1.21.1 in /usr/local/lib/python3.7/dist-packages (from requests->gradio) (1.24.3)\n",
            "Requirement already satisfied: certifi>=2017.4.17 in /usr/local/lib/python3.7/dist-packages (from requests->gradio) (2022.5.18.1)\n",
            "Requirement already satisfied: chardet<4,>=3.0.2 in /usr/local/lib/python3.7/dist-packages (from requests->gradio) (3.0.4)\n",
            "Requirement already satisfied: pydantic!=1.7,!=1.7.1,!=1.7.2,!=1.7.3,!=1.8,!=1.8.1,<2.0.0,>=1.6.2 in /usr/local/lib/python3.7/dist-packages (from fastapi->gradio) (1.9.1)\n",
            "Requirement already satisfied: starlette==0.19.1 in /usr/local/lib/python3.7/dist-packages (from fastapi->gradio) (0.19.1)\n",
            "Requirement already satisfied: anyio<5,>=3.4.0 in /usr/local/lib/python3.7/dist-packages (from starlette==0.19.1->fastapi->gradio) (3.6.1)\n",
            "Requirement already satisfied: sniffio>=1.1 in /usr/local/lib/python3.7/dist-packages (from anyio<5,>=3.4.0->starlette==0.19.1->fastapi->gradio) (1.2.0)\n",
            "Requirement already satisfied: mdurl~=0.1 in /usr/local/lib/python3.7/dist-packages (from markdown-it-py[linkify,plugins]->gradio) (0.1.1)\n",
            "Requirement already satisfied: linkify-it-py~=1.0 in /usr/local/lib/python3.7/dist-packages (from markdown-it-py[linkify,plugins]->gradio) (1.0.3)\n",
            "Requirement already satisfied: mdit-py-plugins in /usr/local/lib/python3.7/dist-packages (from markdown-it-py[linkify,plugins]->gradio) (0.3.0)\n",
            "Requirement already satisfied: uc-micro-py in /usr/local/lib/python3.7/dist-packages (from linkify-it-py~=1.0->markdown-it-py[linkify,plugins]->gradio) (1.0.1)\n",
            "Requirement already satisfied: cycler>=0.10 in /usr/local/lib/python3.7/dist-packages (from matplotlib->gradio) (0.11.0)\n",
            "Requirement already satisfied: kiwisolver>=1.0.1 in /usr/local/lib/python3.7/dist-packages (from matplotlib->gradio) (1.4.2)\n",
            "Requirement already satisfied: pyparsing!=2.0.4,!=2.1.2,!=2.1.6,>=2.0.1 in /usr/local/lib/python3.7/dist-packages (from matplotlib->gradio) (3.0.9)\n",
            "Requirement already satisfied: pytz>=2017.3 in /usr/local/lib/python3.7/dist-packages (from pandas->gradio) (2022.1)\n",
            "Requirement already satisfied: cryptography>=2.5 in /usr/local/lib/python3.7/dist-packages (from paramiko->gradio) (37.0.2)\n",
            "Requirement already satisfied: pynacl>=1.0.1 in /usr/local/lib/python3.7/dist-packages (from paramiko->gradio) (1.5.0)\n",
            "Requirement already satisfied: bcrypt>=3.1.3 in /usr/local/lib/python3.7/dist-packages (from paramiko->gradio) (3.2.2)\n",
            "Requirement already satisfied: cffi>=1.1 in /usr/local/lib/python3.7/dist-packages (from bcrypt>=3.1.3->paramiko->gradio) (1.15.0)\n",
            "Requirement already satisfied: pycparser in /usr/local/lib/python3.7/dist-packages (from cffi>=1.1->bcrypt>=3.1.3->paramiko->gradio) (2.21)\n",
            "Requirement already satisfied: h11>=0.8 in /usr/local/lib/python3.7/dist-packages (from uvicorn->gradio) (0.13.0)\n",
            "Requirement already satisfied: asgiref>=3.4.0 in /usr/local/lib/python3.7/dist-packages (from uvicorn->gradio) (3.5.2)\n",
            "Requirement already satisfied: click>=7.0 in /usr/local/lib/python3.7/dist-packages (from uvicorn->gradio) (7.1.2)\n"
          ]
        }
      ]
    },
    {
      "cell_type": "code",
      "source": [
        "interface = gr.Interface(fn=score_comment, \n",
        "                         inputs=gr.inputs.Textbox(lines=2, placeholder='Comment to score'),\n",
        "                        outputs='text')"
      ],
      "metadata": {
        "colab": {
          "base_uri": "https://localhost:8080/"
        },
        "id": "YbMKzzcDYnMB",
        "outputId": "97e5f7e8-06a8-48a9-affa-1ef6711d15f7"
      },
      "execution_count": null,
      "outputs": [
        {
          "output_type": "stream",
          "name": "stderr",
          "text": [
            "/usr/local/lib/python3.7/dist-packages/gradio/deprecation.py:40: UserWarning: `optional` parameter is deprecated, and it has no effect\n",
            "  warnings.warn(value)\n",
            "/usr/local/lib/python3.7/dist-packages/gradio/deprecation.py:40: UserWarning: `numeric` parameter is deprecated, and it has no effect\n",
            "  warnings.warn(value)\n",
            "/usr/local/lib/python3.7/dist-packages/gradio/deprecation.py:40: UserWarning: The 'type' parameter has been deprecated. Use the Number component instead.\n",
            "  warnings.warn(value)\n"
          ]
        }
      ]
    },
    {
      "cell_type": "code",
      "source": [
        "interface.launch(share=True)"
      ],
      "metadata": {
        "colab": {
          "base_uri": "https://localhost:8080/",
          "height": 648
        },
        "id": "XF2oanCzY2hq",
        "outputId": "f6035d2e-4efb-4cc6-f65c-0317aa59d50e"
      },
      "execution_count": null,
      "outputs": [
        {
          "output_type": "stream",
          "name": "stdout",
          "text": [
            "Colab notebook detected. To show errors in colab notebook, set `debug=True` in `launch()`\n",
            "Running on public URL: https://12953.gradio.app\n",
            "\n",
            "This share link expires in 72 hours. For free permanent hosting, check out Spaces (https://huggingface.co/spaces)\n"
          ]
        },
        {
          "output_type": "display_data",
          "data": {
            "text/plain": [
              "<IPython.core.display.HTML object>"
            ],
            "text/html": [
              "<div><iframe src=\"https://12953.gradio.app\" width=\"900\" height=\"500\" allow=\"autoplay; camera; microphone;\" frameborder=\"0\" allowfullscreen></iframe></div>"
            ]
          },
          "metadata": {}
        },
        {
          "output_type": "execute_result",
          "data": {
            "text/plain": [
              "(<gradio.routes.App at 0x7f3b37b1e210>,\n",
              " 'http://127.0.0.1:7861/',\n",
              " 'https://12953.gradio.app')"
            ]
          },
          "metadata": {},
          "execution_count": 70
        }
      ]
    },
    {
      "cell_type": "code",
      "source": [
        ""
      ],
      "metadata": {
        "id": "_l0hJsdaFzCR"
      },
      "execution_count": null,
      "outputs": []
    }
  ],
  "metadata": {
    "accelerator": "GPU",
    "colab": {
      "collapsed_sections": [],
      "name": "commentToxicity.ipynb",
      "provenance": []
    },
    "kernelspec": {
      "display_name": "Python 3",
      "name": "python3"
    },
    "language_info": {
      "name": "python"
    }
  },
  "nbformat": 4,
  "nbformat_minor": 0
}